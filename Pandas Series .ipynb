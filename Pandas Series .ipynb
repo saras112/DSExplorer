{
 "cells": [
  {
   "cell_type": "code",
   "execution_count": 1,
   "id": "aeb08cc5",
   "metadata": {},
   "outputs": [],
   "source": [
    "import pandas as pd "
   ]
  },
  {
   "cell_type": "markdown",
   "id": "d241fc1d",
   "metadata": {},
   "source": [
    "# Series "
   ]
  },
  {
   "cell_type": "code",
   "execution_count": 25,
   "id": "fffb7252",
   "metadata": {},
   "outputs": [],
   "source": [
    "city1 = pd.Series([12,-6,8,-3])  #noting down the temperature of a city on different days. "
   ]
  },
  {
   "cell_type": "code",
   "execution_count": 26,
   "id": "a7efccd4",
   "metadata": {},
   "outputs": [
    {
     "data": {
      "text/plain": [
       "0    12\n",
       "1    -6\n",
       "2     8\n",
       "3    -3\n",
       "dtype: int64"
      ]
     },
     "execution_count": 26,
     "metadata": {},
     "output_type": "execute_result"
    }
   ],
   "source": [
    "#Series is a one dimensional labelled array which can hold any datatype.\n",
    "city1"
   ]
  },
  {
   "cell_type": "code",
   "execution_count": 21,
   "id": "7df528d7",
   "metadata": {},
   "outputs": [
    {
     "data": {
      "text/plain": [
       "array([12, -6,  8, -3])"
      ]
     },
     "execution_count": 21,
     "metadata": {},
     "output_type": "execute_result"
    }
   ],
   "source": [
    "city1.values"
   ]
  },
  {
   "cell_type": "code",
   "execution_count": 22,
   "id": "2d5ac14a",
   "metadata": {},
   "outputs": [
    {
     "data": {
      "text/plain": [
       "RangeIndex(start=0, stop=4, step=1)"
      ]
     },
     "execution_count": 22,
     "metadata": {},
     "output_type": "execute_result"
    }
   ],
   "source": [
    "city1.index   #it gives the start postion and end position of the indices and step increments"
   ]
  },
  {
   "cell_type": "code",
   "execution_count": 6,
   "id": "6a5633b9",
   "metadata": {},
   "outputs": [
    {
     "data": {
      "text/plain": [
       "dtype('int64')"
      ]
     },
     "execution_count": 6,
     "metadata": {},
     "output_type": "execute_result"
    }
   ],
   "source": [
    "#datatype dtype \n",
    "city1.dtype"
   ]
  },
  {
   "cell_type": "code",
   "execution_count": 27,
   "id": "d29f373d",
   "metadata": {},
   "outputs": [],
   "source": [
    "#to change the index values \n",
    "city2 = pd.Series([12, -6,  8, -3], index = ['Day1','Day2','Day3','Day4'])"
   ]
  },
  {
   "cell_type": "code",
   "execution_count": 29,
   "id": "1d307f7d",
   "metadata": {},
   "outputs": [
    {
     "data": {
      "text/plain": [
       "Day1    12\n",
       "Day2    -6\n",
       "Day3     8\n",
       "Day4    -3\n",
       "dtype: int64"
      ]
     },
     "execution_count": 29,
     "metadata": {},
     "output_type": "execute_result"
    }
   ],
   "source": [
    "city2"
   ]
  },
  {
   "cell_type": "code",
   "execution_count": 31,
   "id": "048c0f3c",
   "metadata": {},
   "outputs": [
    {
     "data": {
      "text/plain": [
       "8"
      ]
     },
     "execution_count": 31,
     "metadata": {},
     "output_type": "execute_result"
    }
   ],
   "source": [
    "city2['Day3']"
   ]
  },
  {
   "cell_type": "code",
   "execution_count": 33,
   "id": "96c9268d",
   "metadata": {},
   "outputs": [
    {
     "data": {
      "text/plain": [
       "Day1    12\n",
       "Day4    -3\n",
       "dtype: int64"
      ]
     },
     "execution_count": 33,
     "metadata": {},
     "output_type": "execute_result"
    }
   ],
   "source": [
    "city2[['Day1','Day4']]"
   ]
  },
  {
   "cell_type": "code",
   "execution_count": 34,
   "id": "439688db",
   "metadata": {},
   "outputs": [
    {
     "data": {
      "text/plain": [
       "Day1     True\n",
       "Day2    False\n",
       "Day3     True\n",
       "Day4    False\n",
       "dtype: bool"
      ]
     },
     "execution_count": 34,
     "metadata": {},
     "output_type": "execute_result"
    }
   ],
   "source": [
    "#to check on which on days the temp >0 \n",
    "city2>0"
   ]
  },
  {
   "cell_type": "code",
   "execution_count": 36,
   "id": "e0f05019",
   "metadata": {},
   "outputs": [
    {
     "data": {
      "text/plain": [
       "Day1    12\n",
       "Day3     8\n",
       "dtype: int64"
      ]
     },
     "execution_count": 36,
     "metadata": {},
     "output_type": "execute_result"
    }
   ],
   "source": [
    "#to take out the values separately, \n",
    "city2[city2>0]"
   ]
  },
  {
   "cell_type": "code",
   "execution_count": 38,
   "id": "c2e1f469",
   "metadata": {},
   "outputs": [
    {
     "data": {
      "text/plain": [
       "-6"
      ]
     },
     "execution_count": 38,
     "metadata": {},
     "output_type": "execute_result"
    }
   ],
   "source": [
    "#min and max fuction \n",
    "city2.min()"
   ]
  },
  {
   "cell_type": "code",
   "execution_count": 39,
   "id": "85c8047b",
   "metadata": {},
   "outputs": [
    {
     "data": {
      "text/plain": [
       "12"
      ]
     },
     "execution_count": 39,
     "metadata": {},
     "output_type": "execute_result"
    }
   ],
   "source": [
    "city2.max()"
   ]
  },
  {
   "cell_type": "code",
   "execution_count": 42,
   "id": "12d0a3b1",
   "metadata": {},
   "outputs": [
    {
     "data": {
      "text/plain": [
       "Day3    8\n",
       "dtype: int64"
      ]
     },
     "execution_count": 42,
     "metadata": {},
     "output_type": "execute_result"
    }
   ],
   "source": [
    "city2[(city2>2) & (city2<9)]"
   ]
  },
  {
   "cell_type": "code",
   "execution_count": 43,
   "id": "daac459a",
   "metadata": {},
   "outputs": [
    {
     "data": {
      "text/plain": [
       "Day1    15\n",
       "Day2    -3\n",
       "Day3    11\n",
       "Day4     0\n",
       "dtype: int64"
      ]
     },
     "execution_count": 43,
     "metadata": {},
     "output_type": "execute_result"
    }
   ],
   "source": [
    "#scalar operations are also possible \n",
    "city2+3\n"
   ]
  },
  {
   "cell_type": "code",
   "execution_count": 44,
   "id": "fcd02f14",
   "metadata": {},
   "outputs": [
    {
     "data": {
      "text/plain": [
       "Day1    11\n",
       "Day2    -7\n",
       "Day3     7\n",
       "Day4    -4\n",
       "dtype: int64"
      ]
     },
     "execution_count": 44,
     "metadata": {},
     "output_type": "execute_result"
    }
   ],
   "source": [
    "city2-1"
   ]
  },
  {
   "cell_type": "code",
   "execution_count": 45,
   "id": "b1f25618",
   "metadata": {},
   "outputs": [
    {
     "data": {
      "text/plain": [
       "Day1    36\n",
       "Day2   -18\n",
       "Day3    24\n",
       "Day4    -9\n",
       "dtype: int64"
      ]
     },
     "execution_count": 45,
     "metadata": {},
     "output_type": "execute_result"
    }
   ],
   "source": [
    "city2*3"
   ]
  },
  {
   "cell_type": "code",
   "execution_count": 46,
   "id": "5aae9134",
   "metadata": {},
   "outputs": [
    {
     "data": {
      "text/plain": [
       "Day1    6.0\n",
       "Day2   -3.0\n",
       "Day3    4.0\n",
       "Day4   -1.5\n",
       "dtype: float64"
      ]
     },
     "execution_count": 46,
     "metadata": {},
     "output_type": "execute_result"
    }
   ],
   "source": [
    "city2/2\n"
   ]
  },
  {
   "cell_type": "code",
   "execution_count": 51,
   "id": "c8286add",
   "metadata": {},
   "outputs": [],
   "source": [
    "#creating a series object using a dictionary\n",
    "\n",
    "data = {'Kerala':28,'Andhra':25,'TN':31,'Karnataka':18,'Delhi':38}"
   ]
  },
  {
   "cell_type": "code",
   "execution_count": 52,
   "id": "5813b3e5",
   "metadata": {},
   "outputs": [
    {
     "data": {
      "text/plain": [
       "Kerala       28\n",
       "Andhra       25\n",
       "TN           31\n",
       "Karnataka    18\n",
       "Delhi        38\n",
       "dtype: int64"
      ]
     },
     "execution_count": 52,
     "metadata": {},
     "output_type": "execute_result"
    }
   ],
   "source": [
    "#convert this into a series \n",
    "data = pd.Series(data)\n",
    "data"
   ]
  },
  {
   "cell_type": "code",
   "execution_count": 53,
   "id": "7edb70c8",
   "metadata": {},
   "outputs": [],
   "source": [
    "states = ['Andhra','Delhi','TN','MP','Kerala','Karnataka']\n"
   ]
  },
  {
   "cell_type": "code",
   "execution_count": 56,
   "id": "dc8a980d",
   "metadata": {},
   "outputs": [
    {
     "data": {
      "text/plain": [
       "Andhra       25.0\n",
       "Delhi        38.0\n",
       "TN           31.0\n",
       "MP            NaN\n",
       "Kerala       28.0\n",
       "Karnataka    18.0\n",
       "dtype: float64"
      ]
     },
     "execution_count": 56,
     "metadata": {},
     "output_type": "execute_result"
    }
   ],
   "source": [
    "city3 = pd.Series(data,index=states)\n",
    "city3"
   ]
  },
  {
   "cell_type": "code",
   "execution_count": 57,
   "id": "9760867e",
   "metadata": {},
   "outputs": [
    {
     "data": {
      "text/plain": [
       "Andhra       False\n",
       "Delhi        False\n",
       "TN           False\n",
       "MP            True\n",
       "Kerala       False\n",
       "Karnataka    False\n",
       "dtype: bool"
      ]
     },
     "execution_count": 57,
     "metadata": {},
     "output_type": "execute_result"
    }
   ],
   "source": [
    "#isna and notna function \n",
    "\n",
    "city3.isna()"
   ]
  },
  {
   "cell_type": "code",
   "execution_count": 59,
   "id": "e9a7bf3e",
   "metadata": {},
   "outputs": [
    {
     "data": {
      "text/plain": [
       "MP   NaN\n",
       "dtype: float64"
      ]
     },
     "execution_count": 59,
     "metadata": {},
     "output_type": "execute_result"
    }
   ],
   "source": [
    "city3[city3.isna()]"
   ]
  },
  {
   "cell_type": "code",
   "execution_count": 61,
   "id": "16ab5a1f",
   "metadata": {},
   "outputs": [
    {
     "data": {
      "text/plain": [
       "Andhra       25.0\n",
       "Delhi        38.0\n",
       "TN           31.0\n",
       "Kerala       28.0\n",
       "Karnataka    18.0\n",
       "dtype: float64"
      ]
     },
     "execution_count": 61,
     "metadata": {},
     "output_type": "execute_result"
    }
   ],
   "source": [
    "city3[city3.notna()]"
   ]
  },
  {
   "cell_type": "code",
   "execution_count": null,
   "id": "db3eebd0",
   "metadata": {},
   "outputs": [],
   "source": []
  }
 ],
 "metadata": {
  "kernelspec": {
   "display_name": "Python 3 (ipykernel)",
   "language": "python",
   "name": "python3"
  },
  "language_info": {
   "codemirror_mode": {
    "name": "ipython",
    "version": 3
   },
   "file_extension": ".py",
   "mimetype": "text/x-python",
   "name": "python",
   "nbconvert_exporter": "python",
   "pygments_lexer": "ipython3",
   "version": "3.9.7"
  }
 },
 "nbformat": 4,
 "nbformat_minor": 5
}
