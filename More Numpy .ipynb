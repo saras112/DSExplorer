{
 "cells": [
  {
   "cell_type": "code",
   "execution_count": 7,
   "id": "5ebd16d7",
   "metadata": {},
   "outputs": [],
   "source": [
    "import numpy as np\n"
   ]
  },
  {
   "cell_type": "code",
   "execution_count": 10,
   "id": "5758b788",
   "metadata": {},
   "outputs": [
    {
     "data": {
      "text/plain": [
       "array([ 5,  6,  7,  8,  9, 10, 11, 12, 13, 14, 15, 16, 17, 18, 19])"
      ]
     },
     "execution_count": 10,
     "metadata": {},
     "output_type": "execute_result"
    }
   ],
   "source": [
    "arr = np.arange(5,20)\n",
    "arr"
   ]
  },
  {
   "cell_type": "code",
   "execution_count": 11,
   "id": "52d4a5c1",
   "metadata": {},
   "outputs": [
    {
     "data": {
      "text/plain": [
       "array([10, 11, 12, 13, 14, 15, 16])"
      ]
     },
     "execution_count": 11,
     "metadata": {},
     "output_type": "execute_result"
    }
   ],
   "source": [
    "arr[5:12]  #from 5th index to 12th "
   ]
  },
  {
   "cell_type": "code",
   "execution_count": 12,
   "id": "5fc0e53f",
   "metadata": {},
   "outputs": [
    {
     "data": {
      "text/plain": [
       "13"
      ]
     },
     "execution_count": 12,
     "metadata": {},
     "output_type": "execute_result"
    }
   ],
   "source": [
    "arr[8]  #8th index"
   ]
  },
  {
   "cell_type": "code",
   "execution_count": 13,
   "id": "b012da57",
   "metadata": {},
   "outputs": [
    {
     "data": {
      "text/plain": [
       "array([10, 11, 12, 13, 14, 15, 16, 17, 18, 19])"
      ]
     },
     "execution_count": 13,
     "metadata": {},
     "output_type": "execute_result"
    }
   ],
   "source": [
    "arr[5:] #from 5th index to last"
   ]
  },
  {
   "cell_type": "code",
   "execution_count": 14,
   "id": "b3d3b150",
   "metadata": {},
   "outputs": [
    {
     "data": {
      "text/plain": [
       "array([5, 6, 7, 8, 9])"
      ]
     },
     "execution_count": 14,
     "metadata": {},
     "output_type": "execute_result"
    }
   ],
   "source": [
    "arr[:5] # from index 0 to 4"
   ]
  },
  {
   "cell_type": "code",
   "execution_count": 15,
   "id": "8a6322f5",
   "metadata": {},
   "outputs": [
    {
     "ename": "IndexError",
     "evalue": "too many indices for array: array is 1-dimensional, but 3 were indexed",
     "output_type": "error",
     "traceback": [
      "\u001b[0;31m---------------------------------------------------------------------------\u001b[0m",
      "\u001b[0;31mIndexError\u001b[0m                                Traceback (most recent call last)",
      "\u001b[0;32m/var/folders/tm/pl_z858j0xs3lh_7j6pl8s8w0000gn/T/ipykernel_67665/1438057154.py\u001b[0m in \u001b[0;36m<module>\u001b[0;34m\u001b[0m\n\u001b[1;32m      1\u001b[0m \u001b[0;31m# to take more than one value from array\u001b[0m\u001b[0;34m\u001b[0m\u001b[0;34m\u001b[0m\u001b[0m\n\u001b[0;32m----> 2\u001b[0;31m \u001b[0marr\u001b[0m\u001b[0;34m[\u001b[0m\u001b[0;36m1\u001b[0m\u001b[0;34m,\u001b[0m\u001b[0;36m2\u001b[0m\u001b[0;34m,\u001b[0m\u001b[0;36m3\u001b[0m\u001b[0;34m]\u001b[0m\u001b[0;34m\u001b[0m\u001b[0;34m\u001b[0m\u001b[0m\n\u001b[0m",
      "\u001b[0;31mIndexError\u001b[0m: too many indices for array: array is 1-dimensional, but 3 were indexed"
     ]
    }
   ],
   "source": [
    "# to take more than one value from array\n",
    "arr[1,2,3]\n",
    "#retruns an error, we need to give it in a list "
   ]
  },
  {
   "cell_type": "code",
   "execution_count": 16,
   "id": "5cc73362",
   "metadata": {},
   "outputs": [
    {
     "data": {
      "text/plain": [
       "array([ 6,  8, 10])"
      ]
     },
     "execution_count": 16,
     "metadata": {},
     "output_type": "execute_result"
    }
   ],
   "source": [
    "arr[[1,3,5]]"
   ]
  },
  {
   "cell_type": "code",
   "execution_count": 20,
   "id": "a9c31fd9",
   "metadata": {},
   "outputs": [
    {
     "data": {
      "text/plain": [
       "array([[ -7,   5,  -2,   4],\n",
       "       [  5,   2,   7,   3],\n",
       "       [-13,  10,   3,  -5]])"
      ]
     },
     "execution_count": 20,
     "metadata": {},
     "output_type": "execute_result"
    }
   ],
   "source": [
    "#next lets try making an array with -ve value. \n",
    "arr2 = np.array([[-7,5,-2,4],[5,2,7,3],[-13,10,3,-5]])\n",
    "arr2"
   ]
  },
  {
   "cell_type": "code",
   "execution_count": 21,
   "id": "cae9405e",
   "metadata": {},
   "outputs": [
    {
     "data": {
      "text/plain": [
       "array([-13,  10,   3,  -5])"
      ]
     },
     "execution_count": 21,
     "metadata": {},
     "output_type": "execute_result"
    }
   ],
   "source": [
    "arr2[2]   #takes out the row with inxex value 2"
   ]
  },
  {
   "cell_type": "code",
   "execution_count": 22,
   "id": "b1d3b429",
   "metadata": {},
   "outputs": [
    {
     "data": {
      "text/plain": [
       "array([-7,  5, -2,  4])"
      ]
     },
     "execution_count": 22,
     "metadata": {},
     "output_type": "execute_result"
    }
   ],
   "source": [
    "arr2[0]"
   ]
  },
  {
   "cell_type": "code",
   "execution_count": 23,
   "id": "492a87db",
   "metadata": {},
   "outputs": [
    {
     "data": {
      "text/plain": [
       "array([[-7,  5, -2,  4],\n",
       "       [ 5,  2,  7,  3]])"
      ]
     },
     "execution_count": 23,
     "metadata": {},
     "output_type": "execute_result"
    }
   ],
   "source": [
    "# to take out multiple rows \n",
    "arr2[[0,1]]"
   ]
  },
  {
   "cell_type": "code",
   "execution_count": 25,
   "id": "43e5dee6",
   "metadata": {},
   "outputs": [
    {
     "data": {
      "text/plain": [
       "array([ 5,  2, 10])"
      ]
     },
     "execution_count": 25,
     "metadata": {},
     "output_type": "execute_result"
    }
   ],
   "source": [
    "#to take out columns \n",
    "arr2[:,1]  #all rows of column with index 1"
   ]
  },
  {
   "cell_type": "code",
   "execution_count": 26,
   "id": "0ad32a7f",
   "metadata": {},
   "outputs": [
    {
     "data": {
      "text/plain": [
       "array([-2,  7,  3])"
      ]
     },
     "execution_count": 26,
     "metadata": {},
     "output_type": "execute_result"
    }
   ],
   "source": [
    "arr2[:,2] #all rows of column with index 2"
   ]
  },
  {
   "cell_type": "code",
   "execution_count": 27,
   "id": "0e4170df",
   "metadata": {},
   "outputs": [
    {
     "data": {
      "text/plain": [
       "array([[ -7,   5],\n",
       "       [  5,   2],\n",
       "       [-13,  10]])"
      ]
     },
     "execution_count": 27,
     "metadata": {},
     "output_type": "execute_result"
    }
   ],
   "source": [
    "arr2[:, :2] #all rows of columns with index from 0 to 1. Note that it wont print 2 "
   ]
  },
  {
   "cell_type": "code",
   "execution_count": 29,
   "id": "5cda1cb2",
   "metadata": {},
   "outputs": [
    {
     "data": {
      "text/plain": [
       "array([[ -7,   5,  -2,   4],\n",
       "       [  5,   2,   7,   3],\n",
       "       [-13,  10,   3,  -5]])"
      ]
     },
     "execution_count": 29,
     "metadata": {},
     "output_type": "execute_result"
    }
   ],
   "source": [
    "arr2\n"
   ]
  },
  {
   "cell_type": "code",
   "execution_count": 30,
   "id": "57713052",
   "metadata": {},
   "outputs": [
    {
     "data": {
      "text/plain": [
       "2"
      ]
     },
     "execution_count": 30,
     "metadata": {},
     "output_type": "execute_result"
    }
   ],
   "source": [
    "arr2[1,1] #should return row with index 1 and column with index 1\n"
   ]
  },
  {
   "cell_type": "code",
   "execution_count": 32,
   "id": "9f8b4ae2",
   "metadata": {},
   "outputs": [
    {
     "data": {
      "text/plain": [
       "array([10, 12, 14, 16, 18, 20, 22, 24, 26, 28, 30, 32, 34, 36, 38, 40, 42,\n",
       "       44, 46, 48, 50, 52, 54, 56, 58, 60, 62, 64, 66, 68, 70, 72, 74, 76,\n",
       "       78, 80])"
      ]
     },
     "execution_count": 32,
     "metadata": {},
     "output_type": "execute_result"
    }
   ],
   "source": [
    "arr3 = np.arange(10,82,2)\n",
    "arr3"
   ]
  },
  {
   "cell_type": "code",
   "execution_count": 33,
   "id": "2d38ac96",
   "metadata": {},
   "outputs": [
    {
     "data": {
      "text/plain": [
       "36"
      ]
     },
     "execution_count": 33,
     "metadata": {},
     "output_type": "execute_result"
    }
   ],
   "source": [
    "len(arr3)"
   ]
  },
  {
   "cell_type": "code",
   "execution_count": 37,
   "id": "5fb0d753",
   "metadata": {},
   "outputs": [
    {
     "data": {
      "text/plain": [
       "array([[10, 12, 14, 16, 18, 20],\n",
       "       [22, 24, 26, 28, 30, 32],\n",
       "       [34, 36, 38, 40, 42, 44],\n",
       "       [46, 48, 50, 52, 54, 56],\n",
       "       [58, 60, 62, 64, 66, 68],\n",
       "       [70, 72, 74, 76, 78, 80]])"
      ]
     },
     "execution_count": 37,
     "metadata": {},
     "output_type": "execute_result"
    }
   ],
   "source": [
    "#to reshape arr3 into a 6*6 array\n",
    "#6*6 = 36\n",
    "arr3 = arr3.reshape(6,6)\n",
    "arr3"
   ]
  },
  {
   "cell_type": "code",
   "execution_count": 38,
   "id": "98653e89",
   "metadata": {},
   "outputs": [
    {
     "data": {
      "text/plain": [
       "array([[10, 14],\n",
       "       [22, 26],\n",
       "       [34, 38],\n",
       "       [46, 50],\n",
       "       [58, 62],\n",
       "       [70, 74]])"
      ]
     },
     "execution_count": 38,
     "metadata": {},
     "output_type": "execute_result"
    }
   ],
   "source": [
    "# lets do more operations on this. \n",
    "arr3[:,[0,2]] #this should result in all rows of columns 0 and 2"
   ]
  },
  {
   "cell_type": "code",
   "execution_count": 39,
   "id": "ee5391db",
   "metadata": {},
   "outputs": [
    {
     "ename": "SyntaxError",
     "evalue": "invalid syntax (1952765833.py, line 1)",
     "output_type": "error",
     "traceback": [
      "\u001b[0;36m  File \u001b[0;32m\"/var/folders/tm/pl_z858j0xs3lh_7j6pl8s8w0000gn/T/ipykernel_67665/1952765833.py\"\u001b[0;36m, line \u001b[0;32m1\u001b[0m\n\u001b[0;31m    arr3[:,[0:2]]\u001b[0m\n\u001b[0m             ^\u001b[0m\n\u001b[0;31mSyntaxError\u001b[0m\u001b[0;31m:\u001b[0m invalid syntax\n"
     ]
    }
   ],
   "source": [
    "arr3[:,[0:2]]  #this results in an error"
   ]
  },
  {
   "cell_type": "code",
   "execution_count": 40,
   "id": "13427b60",
   "metadata": {},
   "outputs": [
    {
     "data": {
      "text/plain": [
       "array([[10, 12],\n",
       "       [22, 24],\n",
       "       [34, 36],\n",
       "       [46, 48],\n",
       "       [58, 60],\n",
       "       [70, 72]])"
      ]
     },
     "execution_count": 40,
     "metadata": {},
     "output_type": "execute_result"
    }
   ],
   "source": [
    "arr3[:,0:2] #this should result in all rows of columns 0 and 1"
   ]
  },
  {
   "cell_type": "code",
   "execution_count": 41,
   "id": "6ff5e51a",
   "metadata": {},
   "outputs": [
    {
     "data": {
      "text/plain": [
       "array([[10, 12, 14, 16, 18, 20],\n",
       "       [22, 24, 26, 28, 30, 32],\n",
       "       [34, 36, 38, 40, 42, 44],\n",
       "       [46, 48, 50, 52, 54, 56],\n",
       "       [58, 60, 62, 64, 66, 68],\n",
       "       [70, 72, 74, 76, 78, 80]])"
      ]
     },
     "execution_count": 41,
     "metadata": {},
     "output_type": "execute_result"
    }
   ],
   "source": [
    "arr3\n"
   ]
  },
  {
   "cell_type": "code",
   "execution_count": 42,
   "id": "217b7a14",
   "metadata": {},
   "outputs": [
    {
     "data": {
      "text/plain": [
       "array([[10, 12, 14, 16, 18, 20],\n",
       "       [22, 24, 26, 28, 30, 32]])"
      ]
     },
     "execution_count": 42,
     "metadata": {},
     "output_type": "execute_result"
    }
   ],
   "source": [
    "arr3[:2,:] #this should take elements from rows 0,1 and all related columns"
   ]
  },
  {
   "cell_type": "code",
   "execution_count": 43,
   "id": "648a228b",
   "metadata": {},
   "outputs": [
    {
     "data": {
      "text/plain": [
       "array([[10, 12, 14, 16, 18, 20],\n",
       "       [22, 24, 26, 28, 30, 32]])"
      ]
     },
     "execution_count": 43,
     "metadata": {},
     "output_type": "execute_result"
    }
   ],
   "source": [
    "arr3[:2]  #similar to above"
   ]
  },
  {
   "cell_type": "code",
   "execution_count": 44,
   "id": "7f895d64",
   "metadata": {},
   "outputs": [],
   "source": [
    "arr4 = np.array([38,40,42,50])"
   ]
  },
  {
   "cell_type": "code",
   "execution_count": 45,
   "id": "4a419878",
   "metadata": {},
   "outputs": [
    {
     "data": {
      "text/plain": [
       "array([38, 40, 42, 50])"
      ]
     },
     "execution_count": 45,
     "metadata": {},
     "output_type": "execute_result"
    }
   ],
   "source": [
    "arr4\n"
   ]
  },
  {
   "cell_type": "code",
   "execution_count": 46,
   "id": "d40a54d7",
   "metadata": {},
   "outputs": [
    {
     "data": {
      "text/plain": [
       "170"
      ]
     },
     "execution_count": 46,
     "metadata": {},
     "output_type": "execute_result"
    }
   ],
   "source": [
    "#builtin function to get the sum of all elements in an array \n",
    "arr4.sum()"
   ]
  },
  {
   "cell_type": "code",
   "execution_count": 47,
   "id": "9d995b46",
   "metadata": {},
   "outputs": [
    {
     "data": {
      "text/plain": [
       "170"
      ]
     },
     "execution_count": 47,
     "metadata": {},
     "output_type": "execute_result"
    }
   ],
   "source": [
    "#similarly with numpy we can do \n",
    "np.sum(arr4)"
   ]
  },
  {
   "cell_type": "code",
   "execution_count": 48,
   "id": "3c85d577",
   "metadata": {},
   "outputs": [
    {
     "data": {
      "text/plain": [
       "42.5"
      ]
     },
     "execution_count": 48,
     "metadata": {},
     "output_type": "execute_result"
    }
   ],
   "source": [
    "#to find mean\n",
    "arr4.mean()"
   ]
  },
  {
   "cell_type": "code",
   "execution_count": 49,
   "id": "8419bada",
   "metadata": {},
   "outputs": [
    {
     "data": {
      "text/plain": [
       "42.5"
      ]
     },
     "execution_count": 49,
     "metadata": {},
     "output_type": "execute_result"
    }
   ],
   "source": [
    "#using numpy\n",
    "np.mean(arr4)"
   ]
  },
  {
   "cell_type": "code",
   "execution_count": 51,
   "id": "df51506b",
   "metadata": {},
   "outputs": [
    {
     "ename": "AttributeError",
     "evalue": "'numpy.ndarray' object has no attribute 'median'",
     "output_type": "error",
     "traceback": [
      "\u001b[0;31m---------------------------------------------------------------------------\u001b[0m",
      "\u001b[0;31mAttributeError\u001b[0m                            Traceback (most recent call last)",
      "\u001b[0;32m/var/folders/tm/pl_z858j0xs3lh_7j6pl8s8w0000gn/T/ipykernel_67665/813310250.py\u001b[0m in \u001b[0;36m<module>\u001b[0;34m\u001b[0m\n\u001b[1;32m      2\u001b[0m \u001b[0;31m#when it comes to median, array doesnt have a median fuction\u001b[0m\u001b[0;34m\u001b[0m\u001b[0;34m\u001b[0m\u001b[0m\n\u001b[1;32m      3\u001b[0m \u001b[0;34m\u001b[0m\u001b[0m\n\u001b[0;32m----> 4\u001b[0;31m \u001b[0marr4\u001b[0m\u001b[0;34m.\u001b[0m\u001b[0mmedian\u001b[0m\u001b[0;34m(\u001b[0m\u001b[0;34m)\u001b[0m\u001b[0;34m\u001b[0m\u001b[0;34m\u001b[0m\u001b[0m\n\u001b[0m",
      "\u001b[0;31mAttributeError\u001b[0m: 'numpy.ndarray' object has no attribute 'median'"
     ]
    }
   ],
   "source": [
    "#for median\n",
    "#when it comes to median, array doesnt have a median fuction \n",
    "\n",
    "arr4.median()"
   ]
  },
  {
   "cell_type": "code",
   "execution_count": 52,
   "id": "88b56af4",
   "metadata": {},
   "outputs": [
    {
     "data": {
      "text/plain": [
       "41.0"
      ]
     },
     "execution_count": 52,
     "metadata": {},
     "output_type": "execute_result"
    }
   ],
   "source": [
    "np.median(arr4)"
   ]
  },
  {
   "cell_type": "code",
   "execution_count": 53,
   "id": "630e1bd3",
   "metadata": {},
   "outputs": [],
   "source": [
    "arr4 = arr4.reshape(2,2)"
   ]
  },
  {
   "cell_type": "code",
   "execution_count": 54,
   "id": "ee5e1b96",
   "metadata": {},
   "outputs": [
    {
     "data": {
      "text/plain": [
       "array([[38, 40],\n",
       "       [42, 50]])"
      ]
     },
     "execution_count": 54,
     "metadata": {},
     "output_type": "execute_result"
    }
   ],
   "source": [
    "arr4"
   ]
  },
  {
   "cell_type": "code",
   "execution_count": 55,
   "id": "6422eb20",
   "metadata": {},
   "outputs": [
    {
     "data": {
      "text/plain": [
       "170"
      ]
     },
     "execution_count": 55,
     "metadata": {},
     "output_type": "execute_result"
    }
   ],
   "source": [
    "arr4.sum()"
   ]
  },
  {
   "cell_type": "code",
   "execution_count": 56,
   "id": "90638f77",
   "metadata": {},
   "outputs": [
    {
     "data": {
      "text/plain": [
       "array([80, 90])"
      ]
     },
     "execution_count": 56,
     "metadata": {},
     "output_type": "execute_result"
    }
   ],
   "source": [
    "# to get the sum row wise or column wise, use axis key word. Axis = 1 is x axis, axis = 0 is y axis. \n",
    "\n",
    "arr4.sum(axis=0)"
   ]
  },
  {
   "cell_type": "code",
   "execution_count": 57,
   "id": "5897587d",
   "metadata": {},
   "outputs": [
    {
     "data": {
      "text/plain": [
       "array([78, 92])"
      ]
     },
     "execution_count": 57,
     "metadata": {},
     "output_type": "execute_result"
    }
   ],
   "source": [
    "arr4.sum(axis = 1)"
   ]
  },
  {
   "cell_type": "code",
   "execution_count": 59,
   "id": "c204cadf",
   "metadata": {},
   "outputs": [
    {
     "data": {
      "text/plain": [
       "array([80, 90])"
      ]
     },
     "execution_count": 59,
     "metadata": {},
     "output_type": "execute_result"
    }
   ],
   "source": [
    "#can also write with out axis keyword\n",
    "arr4.sum(0)"
   ]
  },
  {
   "cell_type": "code",
   "execution_count": 58,
   "id": "eda4be6d",
   "metadata": {},
   "outputs": [
    {
     "data": {
      "text/plain": [
       "array([78, 92])"
      ]
     },
     "execution_count": 58,
     "metadata": {},
     "output_type": "execute_result"
    }
   ],
   "source": [
    "arr4.sum(1)"
   ]
  },
  {
   "cell_type": "code",
   "execution_count": 60,
   "id": "75d7ff39",
   "metadata": {},
   "outputs": [
    {
     "data": {
      "text/plain": [
       "array([[10, 12, 14, 16, 18, 20],\n",
       "       [22, 24, 26, 28, 30, 32],\n",
       "       [34, 36, 38, 40, 42, 44],\n",
       "       [46, 48, 50, 52, 54, 56],\n",
       "       [58, 60, 62, 64, 66, 68],\n",
       "       [70, 72, 74, 76, 78, 80]])"
      ]
     },
     "execution_count": 60,
     "metadata": {},
     "output_type": "execute_result"
    }
   ],
   "source": [
    "arr3\n"
   ]
  },
  {
   "cell_type": "code",
   "execution_count": 61,
   "id": "698f250d",
   "metadata": {},
   "outputs": [
    {
     "data": {
      "text/plain": [
       "array([[15, 17, 19, 21, 23, 25],\n",
       "       [27, 29, 31, 33, 35, 37],\n",
       "       [39, 41, 43, 45, 47, 49],\n",
       "       [51, 53, 55, 57, 59, 61],\n",
       "       [63, 65, 67, 69, 71, 73],\n",
       "       [75, 77, 79, 81, 83, 85]])"
      ]
     },
     "execution_count": 61,
     "metadata": {},
     "output_type": "execute_result"
    }
   ],
   "source": [
    "#we can do scalar arithmetic operations \n",
    "arr3+5"
   ]
  },
  {
   "cell_type": "code",
   "execution_count": 62,
   "id": "4ab43b71",
   "metadata": {},
   "outputs": [
    {
     "data": {
      "text/plain": [
       "array([[ 5,  7,  9, 11, 13, 15],\n",
       "       [17, 19, 21, 23, 25, 27],\n",
       "       [29, 31, 33, 35, 37, 39],\n",
       "       [41, 43, 45, 47, 49, 51],\n",
       "       [53, 55, 57, 59, 61, 63],\n",
       "       [65, 67, 69, 71, 73, 75]])"
      ]
     },
     "execution_count": 62,
     "metadata": {},
     "output_type": "execute_result"
    }
   ],
   "source": [
    "arr3-5"
   ]
  },
  {
   "cell_type": "code",
   "execution_count": 64,
   "id": "5a0baa1f",
   "metadata": {},
   "outputs": [
    {
     "data": {
      "text/plain": [
       "array([[ 50,  60,  70,  80,  90, 100],\n",
       "       [110, 120, 130, 140, 150, 160],\n",
       "       [170, 180, 190, 200, 210, 220],\n",
       "       [230, 240, 250, 260, 270, 280],\n",
       "       [290, 300, 310, 320, 330, 340],\n",
       "       [350, 360, 370, 380, 390, 400]])"
      ]
     },
     "execution_count": 64,
     "metadata": {},
     "output_type": "execute_result"
    }
   ],
   "source": [
    "arr3*5"
   ]
  },
  {
   "cell_type": "code",
   "execution_count": 65,
   "id": "347c1bdb",
   "metadata": {},
   "outputs": [
    {
     "data": {
      "text/plain": [
       "array([[ 2. ,  2.4,  2.8,  3.2,  3.6,  4. ],\n",
       "       [ 4.4,  4.8,  5.2,  5.6,  6. ,  6.4],\n",
       "       [ 6.8,  7.2,  7.6,  8. ,  8.4,  8.8],\n",
       "       [ 9.2,  9.6, 10. , 10.4, 10.8, 11.2],\n",
       "       [11.6, 12. , 12.4, 12.8, 13.2, 13.6],\n",
       "       [14. , 14.4, 14.8, 15.2, 15.6, 16. ]])"
      ]
     },
     "execution_count": 65,
     "metadata": {},
     "output_type": "execute_result"
    }
   ],
   "source": [
    "arr3/5"
   ]
  },
  {
   "cell_type": "code",
   "execution_count": 66,
   "id": "6eff403c",
   "metadata": {},
   "outputs": [
    {
     "data": {
      "text/plain": [
       "array([[10, 12, 14, 16, 18, 20],\n",
       "       [22, 24, 26, 28, 30, 32],\n",
       "       [34, 36, 38, 40, 42, 44],\n",
       "       [46, 48, 50, 52, 54, 56],\n",
       "       [58, 60, 62, 64, 66, 68],\n",
       "       [70, 72, 74, 76, 78, 80]])"
      ]
     },
     "execution_count": 66,
     "metadata": {},
     "output_type": "execute_result"
    }
   ],
   "source": [
    "arr3\n"
   ]
  },
  {
   "cell_type": "code",
   "execution_count": 68,
   "id": "7f0e9948",
   "metadata": {},
   "outputs": [
    {
     "data": {
      "text/plain": [
       "array([[10, 12, 14, 16, 18, 20],\n",
       "       [22, 24, 26, 28, 30, 32],\n",
       "       [34, 36, 38, 40, 42, 44],\n",
       "       [46, 48, 50, 52, 54, 56],\n",
       "       [58, 60, 62, 64, 66, 68],\n",
       "       [-9, -9, -9, -9, -9, -9]])"
      ]
     },
     "execution_count": 68,
     "metadata": {},
     "output_type": "execute_result"
    }
   ],
   "source": [
    "arr3[5] = -9 #will replace all the values in the row index 5 to -9\n",
    "arr3"
   ]
  },
  {
   "cell_type": "code",
   "execution_count": 71,
   "id": "feeb3a30",
   "metadata": {},
   "outputs": [
    {
     "data": {
      "text/plain": [
       "array([[10, 12, 14, 16, 18, 20],\n",
       "       [22, 24, 26, 28, 30, 32],\n",
       "       [34, 36, 38, 40, 42, 44],\n",
       "       [46, 48, 50, 52, 54, 56],\n",
       "       [58, 60, 62, 64, 66, 68],\n",
       "       [ 9,  9,  9,  9,  9,  9]])"
      ]
     },
     "execution_count": 71,
     "metadata": {},
     "output_type": "execute_result"
    }
   ],
   "source": [
    "# absolute function abs(), this replaces all negative values in an array with a positve value. \n",
    "#This is when we are sure that all the values in an array are positive.\n",
    "#For example, age dataset is -ve, we can use this\n",
    "#applying this to arr3\n",
    "arr3=np.abs(arr3)\n",
    "arr3"
   ]
  },
  {
   "cell_type": "code",
   "execution_count": 72,
   "id": "f041de19",
   "metadata": {},
   "outputs": [
    {
     "data": {
      "text/plain": [
       "array([[3.16227766, 3.46410162, 3.74165739, 4.        , 4.24264069,\n",
       "        4.47213595],\n",
       "       [4.69041576, 4.89897949, 5.09901951, 5.29150262, 5.47722558,\n",
       "        5.65685425],\n",
       "       [5.83095189, 6.        , 6.164414  , 6.32455532, 6.4807407 ,\n",
       "        6.63324958],\n",
       "       [6.78232998, 6.92820323, 7.07106781, 7.21110255, 7.34846923,\n",
       "        7.48331477],\n",
       "       [7.61577311, 7.74596669, 7.87400787, 8.        , 8.1240384 ,\n",
       "        8.24621125],\n",
       "       [3.        , 3.        , 3.        , 3.        , 3.        ,\n",
       "        3.        ]])"
      ]
     },
     "execution_count": 72,
     "metadata": {},
     "output_type": "execute_result"
    }
   ],
   "source": [
    "#sqrt function\n",
    "\n",
    "np.sqrt(arr3)"
   ]
  },
  {
   "cell_type": "code",
   "execution_count": 73,
   "id": "4faeeb4a",
   "metadata": {},
   "outputs": [
    {
     "data": {
      "text/plain": [
       "numpy.ndarray"
      ]
     },
     "execution_count": 73,
     "metadata": {},
     "output_type": "execute_result"
    }
   ],
   "source": [
    "type(arr3)"
   ]
  },
  {
   "cell_type": "code",
   "execution_count": 74,
   "id": "e21bb780",
   "metadata": {},
   "outputs": [
    {
     "data": {
      "text/plain": [
       "array([[0., 0., 0., 0., 0.],\n",
       "       [0., 0., 0., 0., 0.],\n",
       "       [0., 0., 0., 0., 0.],\n",
       "       [0., 0., 0., 0., 0.],\n",
       "       [0., 0., 0., 0., 0.]])"
      ]
     },
     "execution_count": 74,
     "metadata": {},
     "output_type": "execute_result"
    }
   ],
   "source": [
    "np.zeros((5,5)) #this will print an array with all elements as zero"
   ]
  },
  {
   "cell_type": "code",
   "execution_count": 76,
   "id": "7418d832",
   "metadata": {},
   "outputs": [
    {
     "data": {
      "text/plain": [
       "array([[1., 1., 1., 1., 1.],\n",
       "       [1., 1., 1., 1., 1.],\n",
       "       [1., 1., 1., 1., 1.],\n",
       "       [1., 1., 1., 1., 1.],\n",
       "       [1., 1., 1., 1., 1.]])"
      ]
     },
     "execution_count": 76,
     "metadata": {},
     "output_type": "execute_result"
    }
   ],
   "source": [
    "np.ones((5,5)) #this will print an array with all elements as one"
   ]
  },
  {
   "cell_type": "code",
   "execution_count": 78,
   "id": "b60a312f",
   "metadata": {},
   "outputs": [
    {
     "data": {
      "text/plain": [
       "array([[1., 0., 0., 0., 0.],\n",
       "       [0., 1., 0., 0., 0.],\n",
       "       [0., 0., 1., 0., 0.],\n",
       "       [0., 0., 0., 1., 0.],\n",
       "       [0., 0., 0., 0., 1.]])"
      ]
     },
     "execution_count": 78,
     "metadata": {},
     "output_type": "execute_result"
    }
   ],
   "source": [
    "#identity matrix is a matrix with diagonal elements are one and rest zero. \n",
    "#eye()\n",
    "\n",
    "np.eye(5,5)    #note: no need to declare 5,5 as tuple here \n"
   ]
  },
  {
   "cell_type": "code",
   "execution_count": 79,
   "id": "907a2686",
   "metadata": {},
   "outputs": [],
   "source": [
    "A = np.arange(8).reshape(2,4)\n",
    "B = np.arange(8).reshape(4,2)"
   ]
  },
  {
   "cell_type": "code",
   "execution_count": 80,
   "id": "9a20075c",
   "metadata": {},
   "outputs": [
    {
     "data": {
      "text/plain": [
       "array([[0, 1, 2, 3],\n",
       "       [4, 5, 6, 7]])"
      ]
     },
     "execution_count": 80,
     "metadata": {},
     "output_type": "execute_result"
    }
   ],
   "source": [
    "A"
   ]
  },
  {
   "cell_type": "code",
   "execution_count": 81,
   "id": "1567758a",
   "metadata": {},
   "outputs": [
    {
     "data": {
      "text/plain": [
       "array([[0, 1],\n",
       "       [2, 3],\n",
       "       [4, 5],\n",
       "       [6, 7]])"
      ]
     },
     "execution_count": 81,
     "metadata": {},
     "output_type": "execute_result"
    }
   ],
   "source": [
    "B"
   ]
  },
  {
   "cell_type": "code",
   "execution_count": 82,
   "id": "b90d2513",
   "metadata": {},
   "outputs": [
    {
     "data": {
      "text/plain": [
       "array([[28, 34],\n",
       "       [76, 98]])"
      ]
     },
     "execution_count": 82,
     "metadata": {},
     "output_type": "execute_result"
    }
   ],
   "source": [
    "#dot product or matrix multiplication \n",
    "#dot()\n",
    "\n",
    "A.dot(B)\n"
   ]
  },
  {
   "cell_type": "code",
   "execution_count": 83,
   "id": "422a70d3",
   "metadata": {},
   "outputs": [
    {
     "data": {
      "text/plain": [
       "array([[10, 12, 14, 16, 18, 20],\n",
       "       [22, 24, 26, 28, 30, 32],\n",
       "       [34, 36, 38, 40, 42, 44],\n",
       "       [46, 48, 50, 52, 54, 56],\n",
       "       [58, 60, 62, 64, 66, 68],\n",
       "       [ 9,  9,  9,  9,  9,  9]])"
      ]
     },
     "execution_count": 83,
     "metadata": {},
     "output_type": "execute_result"
    }
   ],
   "source": [
    "arr3"
   ]
  },
  {
   "cell_type": "code",
   "execution_count": 84,
   "id": "0f3260b7",
   "metadata": {},
   "outputs": [
    {
     "data": {
      "text/plain": [
       "array([[10, 22, 34, 46, 58,  9],\n",
       "       [12, 24, 36, 48, 60,  9],\n",
       "       [14, 26, 38, 50, 62,  9],\n",
       "       [16, 28, 40, 52, 64,  9],\n",
       "       [18, 30, 42, 54, 66,  9],\n",
       "       [20, 32, 44, 56, 68,  9]])"
      ]
     },
     "execution_count": 84,
     "metadata": {},
     "output_type": "execute_result"
    }
   ],
   "source": [
    "#transpose\n",
    "arr3.T"
   ]
  },
  {
   "cell_type": "code",
   "execution_count": null,
   "id": "f47fbc1d",
   "metadata": {},
   "outputs": [],
   "source": []
  }
 ],
 "metadata": {
  "kernelspec": {
   "display_name": "Python 3 (ipykernel)",
   "language": "python",
   "name": "python3"
  },
  "language_info": {
   "codemirror_mode": {
    "name": "ipython",
    "version": 3
   },
   "file_extension": ".py",
   "mimetype": "text/x-python",
   "name": "python",
   "nbconvert_exporter": "python",
   "pygments_lexer": "ipython3",
   "version": "3.9.7"
  }
 },
 "nbformat": 4,
 "nbformat_minor": 5
}
