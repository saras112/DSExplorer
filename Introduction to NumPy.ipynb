{
 "cells": [
  {
   "cell_type": "code",
   "execution_count": 1,
   "id": "a48dcc60",
   "metadata": {},
   "outputs": [],
   "source": [
    "list1 = [1,2,3,4]\n",
    "list2 = [5,6,7,8]"
   ]
  },
  {
   "cell_type": "code",
   "execution_count": 2,
   "id": "fcc71324",
   "metadata": {},
   "outputs": [
    {
     "data": {
      "text/plain": [
       "[1, 2, 3, 4, 5, 6, 7, 8]"
      ]
     },
     "execution_count": 2,
     "metadata": {},
     "output_type": "execute_result"
    }
   ],
   "source": [
    "list1 + list2"
   ]
  },
  {
   "cell_type": "markdown",
   "id": "9c6a8f38",
   "metadata": {},
   "source": [
    "Output is not what is quite expected. Wanted to add up the numbers, but + sign concantenated the two lists. "
   ]
  },
  {
   "cell_type": "code",
   "execution_count": 4,
   "id": "65f2987b",
   "metadata": {},
   "outputs": [
    {
     "name": "stdout",
     "output_type": "stream",
     "text": [
      "6\n",
      "8\n",
      "10\n",
      "12\n"
     ]
    }
   ],
   "source": [
    "for i,j in zip(list1,list2):\n",
    " print (i+j)"
   ]
  },
  {
   "cell_type": "markdown",
   "id": "c95e0513",
   "metadata": {},
   "source": [
    "To add this into a list, we can write this code using list append function "
   ]
  },
  {
   "cell_type": "code",
   "execution_count": 11,
   "id": "27d3c3ee",
   "metadata": {},
   "outputs": [],
   "source": [
    "list3 = []\n",
    "for i,j in zip(list1,list2):\n",
    "    list3.append(i+j)\n",
    "\n"
   ]
  },
  {
   "cell_type": "code",
   "execution_count": 12,
   "id": "657d21b3",
   "metadata": {},
   "outputs": [
    {
     "data": {
      "text/plain": [
       "[6, 8, 10, 12]"
      ]
     },
     "execution_count": 12,
     "metadata": {},
     "output_type": "execute_result"
    }
   ],
   "source": [
    "list3"
   ]
  },
  {
   "cell_type": "markdown",
   "id": "a7aeb78b",
   "metadata": {},
   "source": [
    "We can do numerical operations in much easier way using library NumPy"
   ]
  },
  {
   "cell_type": "code",
   "execution_count": 13,
   "id": "ea39674c",
   "metadata": {},
   "outputs": [],
   "source": [
    "import numpy as np "
   ]
  },
  {
   "cell_type": "markdown",
   "id": "a6fd3dde",
   "metadata": {},
   "source": [
    "numpy can overcome the limitations of list and can do more operations than list "
   ]
  },
  {
   "cell_type": "code",
   "execution_count": 15,
   "id": "1e741e04",
   "metadata": {},
   "outputs": [],
   "source": [
    "arr1 = np.array(list1)\n",
    "arr2 = np.array(list2)\n"
   ]
  },
  {
   "cell_type": "code",
   "execution_count": 16,
   "id": "8fa3b40f",
   "metadata": {},
   "outputs": [
    {
     "data": {
      "text/plain": [
       "array([1, 2, 3, 4])"
      ]
     },
     "execution_count": 16,
     "metadata": {},
     "output_type": "execute_result"
    }
   ],
   "source": [
    "arr1"
   ]
  },
  {
   "cell_type": "code",
   "execution_count": 17,
   "id": "64ffca5b",
   "metadata": {},
   "outputs": [
    {
     "data": {
      "text/plain": [
       "array([5, 6, 7, 8])"
      ]
     },
     "execution_count": 17,
     "metadata": {},
     "output_type": "execute_result"
    }
   ],
   "source": [
    "arr2"
   ]
  },
  {
   "cell_type": "code",
   "execution_count": 19,
   "id": "5ea008dc",
   "metadata": {},
   "outputs": [
    {
     "data": {
      "text/plain": [
       "array([ 6,  8, 10, 12])"
      ]
     },
     "execution_count": 19,
     "metadata": {},
     "output_type": "execute_result"
    }
   ],
   "source": [
    "sum1 = arr1+arr2\n",
    "sum1"
   ]
  },
  {
   "cell_type": "markdown",
   "id": "342961bd",
   "metadata": {},
   "source": [
    "in spide we can see variable explorer, in jupiter notebook use"
   ]
  },
  {
   "cell_type": "code",
   "execution_count": 20,
   "id": "a1580379",
   "metadata": {},
   "outputs": [
    {
     "name": "stdout",
     "output_type": "stream",
     "text": [
      "Variable   Type       Data/Info\n",
      "-------------------------------\n",
      "arr1       ndarray    4: 4 elems, type `int64`, 32 bytes\n",
      "arr2       ndarray    4: 4 elems, type `int64`, 32 bytes\n",
      "arr3       ndarray    4: 4 elems, type `int64`, 32 bytes\n",
      "i          int        4\n",
      "j          int        8\n",
      "list1      list       n=4\n",
      "list2      list       n=4\n",
      "list3      list       n=4\n",
      "np         module     <module 'numpy' from '/Us<...>kages/numpy/__init__.py'>\n",
      "sum1       ndarray    4: 4 elems, type `int64`, 32 bytes\n"
     ]
    }
   ],
   "source": [
    "%whos\n"
   ]
  },
  {
   "cell_type": "code",
   "execution_count": 21,
   "id": "b36fffe8",
   "metadata": {},
   "outputs": [
    {
     "data": {
      "text/plain": [
       "[[1, 2, 3, 4], [5, 6, 7, 8]]"
      ]
     },
     "execution_count": 21,
     "metadata": {},
     "output_type": "execute_result"
    }
   ],
   "source": [
    "#lets create a list with two lists inside \n",
    "data2 = [[1,2,3,4],[5,6,7,8]]\n",
    "data2"
   ]
  },
  {
   "cell_type": "code",
   "execution_count": 26,
   "id": "1d2cda61",
   "metadata": {},
   "outputs": [
    {
     "data": {
      "text/plain": [
       "array([[1, 2, 3, 4],\n",
       "       [5, 6, 7, 8]])"
      ]
     },
     "execution_count": 26,
     "metadata": {},
     "output_type": "execute_result"
    }
   ],
   "source": [
    "#now we will convert this into an array \n",
    "arr3 = np.array(data2)\n",
    "arr3"
   ]
  },
  {
   "cell_type": "code",
   "execution_count": 28,
   "id": "d8379656",
   "metadata": {},
   "outputs": [
    {
     "data": {
      "text/plain": [
       "2"
      ]
     },
     "execution_count": 28,
     "metadata": {},
     "output_type": "execute_result"
    }
   ],
   "source": [
    "#to get the dimension of the array, shows it is a 2 dimensional array\n",
    "arr3.ndim"
   ]
  },
  {
   "cell_type": "code",
   "execution_count": 29,
   "id": "ac962aca",
   "metadata": {},
   "outputs": [
    {
     "data": {
      "text/plain": [
       "dtype('int64')"
      ]
     },
     "execution_count": 29,
     "metadata": {},
     "output_type": "execute_result"
    }
   ],
   "source": [
    "#data type of an array using dtype \n",
    "arr3.dtype"
   ]
  },
  {
   "cell_type": "code",
   "execution_count": 30,
   "id": "8b4e3f50",
   "metadata": {},
   "outputs": [
    {
     "data": {
      "text/plain": [
       "(2, 4)"
      ]
     },
     "execution_count": 30,
     "metadata": {},
     "output_type": "execute_result"
    }
   ],
   "source": [
    "#shape \n",
    "\n",
    "arr3.shape"
   ]
  },
  {
   "cell_type": "code",
   "execution_count": 37,
   "id": "a0494140",
   "metadata": {},
   "outputs": [
    {
     "data": {
      "text/plain": [
       "array([[1., 2., 3., 4.],\n",
       "       [5., 6., 7., 8.]])"
      ]
     },
     "execution_count": 37,
     "metadata": {},
     "output_type": "execute_result"
    }
   ],
   "source": [
    "#to change the datatype of an array, we need to specifically give it. \n",
    "arr4 = np.array(data2, dtype = float)\n",
    "arr4"
   ]
  },
  {
   "cell_type": "code",
   "execution_count": 38,
   "id": "a8eea200",
   "metadata": {},
   "outputs": [
    {
     "data": {
      "text/plain": [
       "dtype('float64')"
      ]
     },
     "execution_count": 38,
     "metadata": {},
     "output_type": "execute_result"
    }
   ],
   "source": [
    "arr4.dtype\n"
   ]
  },
  {
   "cell_type": "code",
   "execution_count": 41,
   "id": "5857f3e3",
   "metadata": {},
   "outputs": [
    {
     "data": {
      "text/plain": [
       "array(['1', '2', '3', '5'], dtype='<U1')"
      ]
     },
     "execution_count": 41,
     "metadata": {},
     "output_type": "execute_result"
    }
   ],
   "source": [
    "arr5 = np.array(['1','2','3','5'])\n",
    "arr5   #displaying, we see datatype as u1, which means unicode or string data type"
   ]
  },
  {
   "cell_type": "code",
   "execution_count": 43,
   "id": "4bc6300b",
   "metadata": {},
   "outputs": [
    {
     "data": {
      "text/plain": [
       "array([1, 2, 3, 5])"
      ]
     },
     "execution_count": 43,
     "metadata": {},
     "output_type": "execute_result"
    }
   ],
   "source": [
    "arr6 = np.array(arr5, dtype= int)\n",
    "arr6"
   ]
  },
  {
   "cell_type": "code",
   "execution_count": 44,
   "id": "a6a7ee32",
   "metadata": {},
   "outputs": [
    {
     "data": {
      "text/plain": [
       "[0, 1, 2, 3, 4, 5, 6]"
      ]
     },
     "execution_count": 44,
     "metadata": {},
     "output_type": "execute_result"
    }
   ],
   "source": [
    "#now lets create list\n",
    "\n",
    "list(range(7))"
   ]
  },
  {
   "cell_type": "code",
   "execution_count": 46,
   "id": "34d0137d",
   "metadata": {},
   "outputs": [
    {
     "data": {
      "text/plain": [
       "array([0, 1, 2, 3, 4, 5, 6])"
      ]
     },
     "execution_count": 46,
     "metadata": {},
     "output_type": "execute_result"
    }
   ],
   "source": [
    "#similarly\n",
    "np.arange(7)"
   ]
  },
  {
   "cell_type": "code",
   "execution_count": 47,
   "id": "9d7b0bc8",
   "metadata": {},
   "outputs": [
    {
     "data": {
      "text/plain": [
       "array([ 4,  5,  6,  7,  8,  9, 10, 11, 12, 13, 14, 15, 16, 17, 18, 19])"
      ]
     },
     "execution_count": 47,
     "metadata": {},
     "output_type": "execute_result"
    }
   ],
   "source": [
    "np.arange(4,20)"
   ]
  },
  {
   "cell_type": "code",
   "execution_count": 49,
   "id": "7546d7ab",
   "metadata": {},
   "outputs": [],
   "source": [
    "arr8 = np.arange(4,20,2)"
   ]
  },
  {
   "cell_type": "code",
   "execution_count": 52,
   "id": "ac631f12",
   "metadata": {},
   "outputs": [
    {
     "data": {
      "text/plain": [
       "array([[ 4,  6,  8, 10],\n",
       "       [12, 14, 16, 18]])"
      ]
     },
     "execution_count": 52,
     "metadata": {},
     "output_type": "execute_result"
    }
   ],
   "source": [
    "#arrays can be reshaped to the dimesion we like as long as m*n = total number of elements in the array\n",
    "\n",
    "arr9 = arr8.reshape(2,4)\n",
    "arr9"
   ]
  },
  {
   "cell_type": "code",
   "execution_count": 54,
   "id": "73086ac0",
   "metadata": {},
   "outputs": [
    {
     "data": {
      "text/plain": [
       "array([[ 4,  6],\n",
       "       [ 8, 10],\n",
       "       [12, 14],\n",
       "       [16, 18]])"
      ]
     },
     "execution_count": 54,
     "metadata": {},
     "output_type": "execute_result"
    }
   ],
   "source": [
    "arr10 = arr8.reshape(4,2)\n",
    "arr10\n"
   ]
  },
  {
   "cell_type": "code",
   "execution_count": 55,
   "id": "67c8b8bd",
   "metadata": {},
   "outputs": [
    {
     "data": {
      "text/plain": [
       "array([ 1.  ,  8.25, 15.5 , 22.75, 30.  ])"
      ]
     },
     "execution_count": 55,
     "metadata": {},
     "output_type": "execute_result"
    }
   ],
   "source": [
    "#linspace converts an array into equal intervals of specified value\n",
    "arr11 = np.linspace(1,30,5)\n",
    "arr11"
   ]
  },
  {
   "cell_type": "code",
   "execution_count": 57,
   "id": "2f701de7",
   "metadata": {},
   "outputs": [
    {
     "data": {
      "text/plain": [
       "array([ 1.        ,  4.66666667,  8.33333333, 12.        ])"
      ]
     },
     "execution_count": 57,
     "metadata": {},
     "output_type": "execute_result"
    }
   ],
   "source": [
    "arr12 = np.linspace(1,12,4)\n",
    "arr12"
   ]
  },
  {
   "cell_type": "code",
   "execution_count": null,
   "id": "5337c033",
   "metadata": {},
   "outputs": [],
   "source": []
  }
 ],
 "metadata": {
  "kernelspec": {
   "display_name": "Python 3 (ipykernel)",
   "language": "python",
   "name": "python3"
  },
  "language_info": {
   "codemirror_mode": {
    "name": "ipython",
    "version": 3
   },
   "file_extension": ".py",
   "mimetype": "text/x-python",
   "name": "python",
   "nbconvert_exporter": "python",
   "pygments_lexer": "ipython3",
   "version": "3.9.7"
  }
 },
 "nbformat": 4,
 "nbformat_minor": 5
}
